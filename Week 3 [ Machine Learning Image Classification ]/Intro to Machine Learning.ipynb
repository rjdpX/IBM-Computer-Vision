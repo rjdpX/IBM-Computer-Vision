{
 "cells": [
  {
   "cell_type": "markdown",
   "id": "f69dbc08",
   "metadata": {},
   "source": [
    "### Using different Machine Learning techniques to classify images\n",
    "\n",
    "#### Challenges:\n",
    "* Different illumination over object\n",
    "* Different environment conditions\n",
    "* Change in view\n",
    "* Occlusion\n",
    "* Background clutter\n",
    "\n",
    "#### Different <font color = \"Blue\">Machine Learning methods</font>, we are going to apply\n",
    "* K Nearest Neighbours\n",
    "* Feature Extraction\n",
    "* Linear Classifier"
   ]
  },
  {
   "cell_type": "code",
   "execution_count": null,
   "id": "67197db8",
   "metadata": {},
   "outputs": [],
   "source": []
  }
 ],
 "metadata": {
  "kernelspec": {
   "display_name": "Python 3 (ipykernel)",
   "language": "python",
   "name": "python3"
  },
  "language_info": {
   "codemirror_mode": {
    "name": "ipython",
    "version": 3
   },
   "file_extension": ".py",
   "mimetype": "text/x-python",
   "name": "python",
   "nbconvert_exporter": "python",
   "pygments_lexer": "ipython3",
   "version": "3.9.7"
  }
 },
 "nbformat": 4,
 "nbformat_minor": 5
}
